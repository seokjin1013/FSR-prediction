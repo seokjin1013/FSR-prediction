{
 "cells": [
  {
   "cell_type": "code",
   "execution_count": 1,
   "metadata": {},
   "outputs": [],
   "source": [
    "from typing import Optional, Dict, Any\n",
    "from ray.tune.search.optuna import OptunaSearch\n",
    "from ray.tune.search import ConcurrencyLimiter\n",
    "from ray import tune\n",
    "import time\n",
    "from ray.air import session\n",
    "import ray\n",
    "import ray.tune.search.optuna.optuna_search"
   ]
  },
  {
   "cell_type": "code",
   "execution_count": 2,
   "metadata": {},
   "outputs": [],
   "source": [
    "def define_by_run_func(trial:ray.tune.search.optuna.optuna_search._OptunaTrialSuggestCaptor) -> Optional[Dict[str, Any]]:\n",
    "    \"\"\"Define-by-run function to create the search space.\n",
    "\n",
    "    Ensure no actual computation takes place here. That should go into\n",
    "    the trainable passed to ``Tuner()`` (in this example, that's\n",
    "    ``objective``).\n",
    "\n",
    "    For more information, see https://optuna.readthedocs.io/en/stable\\\n",
    "    /tutorial/10_key_features/002_configurations.html\n",
    "\n",
    "    This function should either return None or a dict with constant values.\n",
    "    \"\"\"\n",
    "\n",
    "    activation = trial.suggest_categorical(\"activation\", [\"relu\", \"tanh\"])\n",
    "\n",
    "    # Define-by-run allows for conditional search spaces.\n",
    "    if activation == \"relu\":\n",
    "        trial.suggest_float(\"size\", -100, 100)\n",
    "        trial.suggest_float(\"si/ze/width\", 0, 20)\n",
    "        trial.suggest_float(\"size/height\", -100, 100)\n",
    "    else:\n",
    "        trial.suggest_float(\"si/ze/width\", -1, 21)\n",
    "        trial.suggest_float(\"size\", -101, 101)\n",
    "        \n",
    "    # Return all constants in a dictionary.\n",
    "    return {\"steps\": 100}"
   ]
  },
  {
   "cell_type": "code",
   "execution_count": 3,
   "metadata": {},
   "outputs": [
    {
     "name": "stderr",
     "output_type": "stream",
     "text": [
      "[I 2023-07-01 20:05:22,228] A new study created in memory with name: optuna\n"
     ]
    }
   ],
   "source": [
    "searcher = OptunaSearch(define_by_run_func, metric=\"mean_loss\", mode=\"min\")\n",
    "algo = ConcurrencyLimiter(searcher, max_concurrent=4)"
   ]
  },
  {
   "cell_type": "code",
   "execution_count": 4,
   "metadata": {},
   "outputs": [],
   "source": [
    "def evaluate(step, width, height, activation):\n",
    "    time.sleep(0.1)\n",
    "    activation_boost = 10 if activation==\"relu\" else 0\n",
    "    return (0.1 + width * step / 100) ** (-1) + height * 0.1 + activation_boost"
   ]
  },
  {
   "cell_type": "code",
   "execution_count": 5,
   "metadata": {},
   "outputs": [],
   "source": [
    "def objective(config):\n",
    "    for step in range(config[\"steps\"]):\n",
    "        score = evaluate(step, config[\"si\"][\"ze\"][\"width\"], config[\"size\"][\"height\"], config[\"activation\"])\n",
    "        session.report({\"iterations\": step, \"mean_loss\": score})"
   ]
  },
  {
   "cell_type": "code",
   "execution_count": 6,
   "metadata": {},
   "outputs": [
    {
     "name": "stderr",
     "output_type": "stream",
     "text": [
      "2023-07-01 20:05:24,588\tINFO worker.py:1627 -- Started a local Ray instance. View the dashboard at \u001b[1m\u001b[32m127.0.0.1:8265 \u001b[39m\u001b[22m\n",
      "2023-07-01 20:05:26,439\tINFO tune.py:226 -- Initializing Ray automatically. For cluster usage or custom Ray initialization, call `ray.init(...)` before `Tuner(...)`.\n"
     ]
    },
    {
     "data": {
      "text/html": [],
      "text/plain": [
       "<IPython.core.display.HTML object>"
      ]
     },
     "metadata": {},
     "output_type": "display_data"
    },
    {
     "ename": "TypeError",
     "evalue": "Cannot unflatten dict due the key 'size/height' having a parent key 'size', which value is not of type <class 'dict'> (got <class 'float'>). Change the key names to resolve the conflict.",
     "output_type": "error",
     "traceback": [
      "\u001b[0;31m---------------------------------------------------------------------------\u001b[0m",
      "\u001b[0;31mTypeError\u001b[0m                                 Traceback (most recent call last)",
      "Cell \u001b[0;32mIn[6], line 9\u001b[0m\n\u001b[1;32m      1\u001b[0m num_samples \u001b[39m=\u001b[39m \u001b[39m10\u001b[39m\n\u001b[1;32m      2\u001b[0m tuner \u001b[39m=\u001b[39m tune\u001b[39m.\u001b[39mTuner(\n\u001b[1;32m      3\u001b[0m     objective,\n\u001b[1;32m      4\u001b[0m     tune_config\u001b[39m=\u001b[39mtune\u001b[39m.\u001b[39mTuneConfig(\n\u001b[0;32m   (...)\u001b[0m\n\u001b[1;32m      7\u001b[0m     ),\n\u001b[1;32m      8\u001b[0m )\n\u001b[0;32m----> 9\u001b[0m results \u001b[39m=\u001b[39m tuner\u001b[39m.\u001b[39;49mfit()\n",
      "File \u001b[0;32m~/workspace/.venv/lib/python3.10/site-packages/ray/tune/tuner.py:347\u001b[0m, in \u001b[0;36mTuner.fit\u001b[0;34m(self)\u001b[0m\n\u001b[1;32m    345\u001b[0m \u001b[39mif\u001b[39;00m \u001b[39mnot\u001b[39;00m \u001b[39mself\u001b[39m\u001b[39m.\u001b[39m_is_ray_client:\n\u001b[1;32m    346\u001b[0m     \u001b[39mtry\u001b[39;00m:\n\u001b[0;32m--> 347\u001b[0m         \u001b[39mreturn\u001b[39;00m \u001b[39mself\u001b[39;49m\u001b[39m.\u001b[39;49m_local_tuner\u001b[39m.\u001b[39;49mfit()\n\u001b[1;32m    348\u001b[0m     \u001b[39mexcept\u001b[39;00m TuneError \u001b[39mas\u001b[39;00m e:\n\u001b[1;32m    349\u001b[0m         \u001b[39mraise\u001b[39;00m TuneError(\n\u001b[1;32m    350\u001b[0m             _TUNER_FAILED_MSG\u001b[39m.\u001b[39mformat(\n\u001b[1;32m    351\u001b[0m                 path\u001b[39m=\u001b[39m\u001b[39mself\u001b[39m\u001b[39m.\u001b[39m_local_tuner\u001b[39m.\u001b[39mget_experiment_checkpoint_dir()\n\u001b[1;32m    352\u001b[0m             )\n\u001b[1;32m    353\u001b[0m         ) \u001b[39mfrom\u001b[39;00m \u001b[39me\u001b[39;00m\n",
      "File \u001b[0;32m~/workspace/.venv/lib/python3.10/site-packages/ray/tune/impl/tuner_internal.py:588\u001b[0m, in \u001b[0;36mTunerInternal.fit\u001b[0;34m(self)\u001b[0m\n\u001b[1;32m    586\u001b[0m param_space \u001b[39m=\u001b[39m copy\u001b[39m.\u001b[39mdeepcopy(\u001b[39mself\u001b[39m\u001b[39m.\u001b[39mparam_space)\n\u001b[1;32m    587\u001b[0m \u001b[39mif\u001b[39;00m \u001b[39mnot\u001b[39;00m \u001b[39mself\u001b[39m\u001b[39m.\u001b[39m_is_restored:\n\u001b[0;32m--> 588\u001b[0m     analysis \u001b[39m=\u001b[39m \u001b[39mself\u001b[39;49m\u001b[39m.\u001b[39;49m_fit_internal(trainable, param_space)\n\u001b[1;32m    589\u001b[0m \u001b[39melse\u001b[39;00m:\n\u001b[1;32m    590\u001b[0m     analysis \u001b[39m=\u001b[39m \u001b[39mself\u001b[39m\u001b[39m.\u001b[39m_fit_resume(trainable, param_space)\n",
      "File \u001b[0;32m~/workspace/.venv/lib/python3.10/site-packages/ray/tune/impl/tuner_internal.py:712\u001b[0m, in \u001b[0;36mTunerInternal._fit_internal\u001b[0;34m(self, trainable, param_space)\u001b[0m\n\u001b[1;32m    698\u001b[0m \u001b[39m\u001b[39m\u001b[39m\"\"\"Fitting for a fresh Tuner.\"\"\"\u001b[39;00m\n\u001b[1;32m    699\u001b[0m args \u001b[39m=\u001b[39m {\n\u001b[1;32m    700\u001b[0m     \u001b[39m*\u001b[39m\u001b[39m*\u001b[39m\u001b[39mself\u001b[39m\u001b[39m.\u001b[39m_get_tune_run_arguments(trainable),\n\u001b[1;32m    701\u001b[0m     \u001b[39m*\u001b[39m\u001b[39m*\u001b[39m\u001b[39mdict\u001b[39m(\n\u001b[0;32m   (...)\u001b[0m\n\u001b[1;32m    710\u001b[0m     \u001b[39m*\u001b[39m\u001b[39m*\u001b[39m\u001b[39mself\u001b[39m\u001b[39m.\u001b[39m_tuner_kwargs,\n\u001b[1;32m    711\u001b[0m }\n\u001b[0;32m--> 712\u001b[0m analysis \u001b[39m=\u001b[39m run(\n\u001b[1;32m    713\u001b[0m     \u001b[39m*\u001b[39;49m\u001b[39m*\u001b[39;49margs,\n\u001b[1;32m    714\u001b[0m )\n\u001b[1;32m    715\u001b[0m \u001b[39mself\u001b[39m\u001b[39m.\u001b[39mclear_remote_string_queue()\n\u001b[1;32m    716\u001b[0m \u001b[39mreturn\u001b[39;00m analysis\n",
      "File \u001b[0;32m~/workspace/.venv/lib/python3.10/site-packages/ray/tune/tune.py:1070\u001b[0m, in \u001b[0;36mrun\u001b[0;34m(run_or_experiment, name, metric, mode, stop, time_budget_s, config, resources_per_trial, num_samples, storage_path, search_alg, scheduler, keep_checkpoints_num, checkpoint_score_attr, checkpoint_freq, checkpoint_at_end, checkpoint_keep_all_ranks, checkpoint_upload_from_workers, verbose, progress_reporter, log_to_file, trial_name_creator, trial_dirname_creator, chdir_to_trial_dir, sync_config, export_formats, max_failures, fail_fast, restore, server_port, resume, reuse_actors, raise_on_failed_trial, callbacks, max_concurrent_trials, trial_executor, local_dir, _experiment_checkpoint_dir, _remote, _remote_string_queue, _entrypoint)\u001b[0m\n\u001b[1;32m   1066\u001b[0m \u001b[39mtry\u001b[39;00m:\n\u001b[1;32m   1067\u001b[0m     \u001b[39mwhile\u001b[39;00m (\n\u001b[1;32m   1068\u001b[0m         \u001b[39mnot\u001b[39;00m runner\u001b[39m.\u001b[39mis_finished() \u001b[39mand\u001b[39;00m \u001b[39mnot\u001b[39;00m experiment_interrupted_event\u001b[39m.\u001b[39mis_set()\n\u001b[1;32m   1069\u001b[0m     ):\n\u001b[0;32m-> 1070\u001b[0m         runner\u001b[39m.\u001b[39;49mstep()\n\u001b[1;32m   1071\u001b[0m         \u001b[39mif\u001b[39;00m has_verbosity(Verbosity\u001b[39m.\u001b[39mV1_EXPERIMENT):\n\u001b[1;32m   1072\u001b[0m             _report_progress(runner, progress_reporter)\n",
      "File \u001b[0;32m~/workspace/.venv/lib/python3.10/site-packages/ray/tune/execution/tune_controller.py:250\u001b[0m, in \u001b[0;36mTuneController.step\u001b[0;34m(self)\u001b[0m\n\u001b[1;32m    245\u001b[0m     \u001b[39mself\u001b[39m\u001b[39m.\u001b[39m_callbacks\u001b[39m.\u001b[39mon_step_begin(\n\u001b[1;32m    246\u001b[0m         iteration\u001b[39m=\u001b[39m\u001b[39mself\u001b[39m\u001b[39m.\u001b[39m_iteration, trials\u001b[39m=\u001b[39m\u001b[39mself\u001b[39m\u001b[39m.\u001b[39m_trials\n\u001b[1;32m    247\u001b[0m     )\n\u001b[1;32m    249\u001b[0m \u001b[39m# Ask searcher for more trials\u001b[39;00m\n\u001b[0;32m--> 250\u001b[0m \u001b[39mself\u001b[39;49m\u001b[39m.\u001b[39;49m_maybe_update_trial_queue()\n\u001b[1;32m    252\u001b[0m \u001b[39m# Start actors for added trials\u001b[39;00m\n\u001b[1;32m    253\u001b[0m \u001b[39mself\u001b[39m\u001b[39m.\u001b[39m_maybe_add_actors()\n",
      "File \u001b[0;32m~/workspace/.venv/lib/python3.10/site-packages/ray/tune/execution/tune_controller.py:381\u001b[0m, in \u001b[0;36mTuneController._maybe_update_trial_queue\u001b[0;34m(self)\u001b[0m\n\u001b[1;32m    376\u001b[0m dont_wait_for_trial \u001b[39m=\u001b[39m (\n\u001b[1;32m    377\u001b[0m     \u001b[39mself\u001b[39m\u001b[39m.\u001b[39m_pending_trials \u001b[39mor\u001b[39;00m \u001b[39mself\u001b[39m\u001b[39m.\u001b[39m_running_trials \u001b[39mor\u001b[39;00m \u001b[39mself\u001b[39m\u001b[39m.\u001b[39m_paused_trials\n\u001b[1;32m    378\u001b[0m )\n\u001b[1;32m    380\u001b[0m \u001b[39mwhile\u001b[39;00m \u001b[39mlen\u001b[39m(\u001b[39mself\u001b[39m\u001b[39m.\u001b[39m_pending_trials) \u001b[39m<\u001b[39m \u001b[39mself\u001b[39m\u001b[39m.\u001b[39m_max_pending_trials:\n\u001b[0;32m--> 381\u001b[0m     \u001b[39mif\u001b[39;00m \u001b[39mnot\u001b[39;00m \u001b[39mself\u001b[39;49m\u001b[39m.\u001b[39;49m_update_trial_queue(blocking\u001b[39m=\u001b[39;49m\u001b[39mnot\u001b[39;49;00m dont_wait_for_trial):\n\u001b[1;32m    382\u001b[0m         \u001b[39mbreak\u001b[39;00m\n\u001b[1;32m    383\u001b[0m     dont_wait_for_trial \u001b[39m=\u001b[39m \u001b[39mTrue\u001b[39;00m\n",
      "File \u001b[0;32m~/workspace/.venv/lib/python3.10/site-packages/ray/tune/execution/trial_runner.py:1095\u001b[0m, in \u001b[0;36m_TuneControllerBase._update_trial_queue\u001b[0;34m(self, blocking, timeout)\u001b[0m\n\u001b[1;32m   1082\u001b[0m \u001b[39mdef\u001b[39;00m \u001b[39m_update_trial_queue\u001b[39m(\u001b[39mself\u001b[39m, blocking: \u001b[39mbool\u001b[39m \u001b[39m=\u001b[39m \u001b[39mFalse\u001b[39;00m, timeout: \u001b[39mint\u001b[39m \u001b[39m=\u001b[39m \u001b[39m600\u001b[39m) \u001b[39m-\u001b[39m\u001b[39m>\u001b[39m \u001b[39mbool\u001b[39m:\n\u001b[1;32m   1083\u001b[0m \u001b[39m    \u001b[39m\u001b[39m\"\"\"Adds next trials to queue if possible.\u001b[39;00m\n\u001b[1;32m   1084\u001b[0m \n\u001b[1;32m   1085\u001b[0m \u001b[39m    Note that the timeout is currently unexposed to the user.\u001b[39;00m\n\u001b[0;32m   (...)\u001b[0m\n\u001b[1;32m   1093\u001b[0m \u001b[39m        Boolean indicating if a new trial was created or not.\u001b[39;00m\n\u001b[1;32m   1094\u001b[0m \u001b[39m    \"\"\"\u001b[39;00m\n\u001b[0;32m-> 1095\u001b[0m     trial \u001b[39m=\u001b[39m \u001b[39mself\u001b[39;49m\u001b[39m.\u001b[39;49m_search_alg\u001b[39m.\u001b[39;49mnext_trial()\n\u001b[1;32m   1096\u001b[0m     \u001b[39mif\u001b[39;00m blocking \u001b[39mand\u001b[39;00m \u001b[39mnot\u001b[39;00m trial:\n\u001b[1;32m   1097\u001b[0m         start \u001b[39m=\u001b[39m time\u001b[39m.\u001b[39mtime()\n",
      "File \u001b[0;32m~/workspace/.venv/lib/python3.10/site-packages/ray/tune/search/search_generator.py:100\u001b[0m, in \u001b[0;36mSearchGenerator.next_trial\u001b[0;34m(self)\u001b[0m\n\u001b[1;32m     94\u001b[0m \u001b[39m\u001b[39m\u001b[39m\"\"\"Provides one Trial object to be queued into the TrialRunner.\u001b[39;00m\n\u001b[1;32m     95\u001b[0m \n\u001b[1;32m     96\u001b[0m \u001b[39mReturns:\u001b[39;00m\n\u001b[1;32m     97\u001b[0m \u001b[39m    Trial: Returns a single trial.\u001b[39;00m\n\u001b[1;32m     98\u001b[0m \u001b[39m\"\"\"\u001b[39;00m\n\u001b[1;32m     99\u001b[0m \u001b[39mif\u001b[39;00m \u001b[39mnot\u001b[39;00m \u001b[39mself\u001b[39m\u001b[39m.\u001b[39mis_finished():\n\u001b[0;32m--> 100\u001b[0m     \u001b[39mreturn\u001b[39;00m \u001b[39mself\u001b[39;49m\u001b[39m.\u001b[39;49mcreate_trial_if_possible(\n\u001b[1;32m    101\u001b[0m         \u001b[39mself\u001b[39;49m\u001b[39m.\u001b[39;49m_experiment\u001b[39m.\u001b[39;49mspec, \u001b[39mself\u001b[39;49m\u001b[39m.\u001b[39;49m_experiment\u001b[39m.\u001b[39;49mdir_name\n\u001b[1;32m    102\u001b[0m     )\n\u001b[1;32m    103\u001b[0m \u001b[39mreturn\u001b[39;00m \u001b[39mNone\u001b[39;00m\n",
      "File \u001b[0;32m~/workspace/.venv/lib/python3.10/site-packages/ray/tune/search/search_generator.py:110\u001b[0m, in \u001b[0;36mSearchGenerator.create_trial_if_possible\u001b[0;34m(self, experiment_spec, output_path)\u001b[0m\n\u001b[1;32m    108\u001b[0m logger\u001b[39m.\u001b[39mdebug(\u001b[39m\"\u001b[39m\u001b[39mcreating trial\u001b[39m\u001b[39m\"\u001b[39m)\n\u001b[1;32m    109\u001b[0m trial_id \u001b[39m=\u001b[39m Trial\u001b[39m.\u001b[39mgenerate_id()\n\u001b[0;32m--> 110\u001b[0m suggested_config \u001b[39m=\u001b[39m \u001b[39mself\u001b[39;49m\u001b[39m.\u001b[39;49msearcher\u001b[39m.\u001b[39;49msuggest(trial_id)\n\u001b[1;32m    111\u001b[0m \u001b[39mif\u001b[39;00m suggested_config \u001b[39m==\u001b[39m Searcher\u001b[39m.\u001b[39mFINISHED:\n\u001b[1;32m    112\u001b[0m     \u001b[39mself\u001b[39m\u001b[39m.\u001b[39m_finished \u001b[39m=\u001b[39m \u001b[39mTrue\u001b[39;00m\n",
      "File \u001b[0;32m~/workspace/.venv/lib/python3.10/site-packages/ray/tune/search/optuna/optuna_search.py:505\u001b[0m, in \u001b[0;36mOptunaSearch.suggest\u001b[0;34m(self, trial_id)\u001b[0m\n\u001b[1;32m    502\u001b[0m     ot_trial \u001b[39m=\u001b[39m \u001b[39mself\u001b[39m\u001b[39m.\u001b[39m_ot_trials[trial_id]\n\u001b[1;32m    503\u001b[0m     params \u001b[39m=\u001b[39m ot_trial\u001b[39m.\u001b[39mparams\n\u001b[0;32m--> 505\u001b[0m \u001b[39mreturn\u001b[39;00m unflatten_dict(params)\n",
      "File \u001b[0;32m~/workspace/.venv/lib/python3.10/site-packages/ray/_private/dict.py:163\u001b[0m, in \u001b[0;36munflatten_dict\u001b[0;34m(dt, delimiter)\u001b[0m\n\u001b[1;32m    161\u001b[0m         item \u001b[39m=\u001b[39m item\u001b[39m.\u001b[39msetdefault(k, dict_type())\n\u001b[1;32m    162\u001b[0m         \u001b[39mif\u001b[39;00m \u001b[39mnot\u001b[39;00m \u001b[39misinstance\u001b[39m(item, dict_type):\n\u001b[0;32m--> 163\u001b[0m             \u001b[39mraise\u001b[39;00m \u001b[39mTypeError\u001b[39;00m(\n\u001b[1;32m    164\u001b[0m                 \u001b[39mf\u001b[39m\u001b[39m\"\u001b[39m\u001b[39mCannot unflatten dict due the key \u001b[39m\u001b[39m'\u001b[39m\u001b[39m{\u001b[39;00mkey\u001b[39m}\u001b[39;00m\u001b[39m'\u001b[39m\u001b[39m \u001b[39m\u001b[39m\"\u001b[39m\n\u001b[1;32m    165\u001b[0m                 \u001b[39mf\u001b[39m\u001b[39m\"\u001b[39m\u001b[39mhaving a parent key \u001b[39m\u001b[39m'\u001b[39m\u001b[39m{\u001b[39;00mk\u001b[39m}\u001b[39;00m\u001b[39m'\u001b[39m\u001b[39m, which value is not \u001b[39m\u001b[39m\"\u001b[39m\n\u001b[1;32m    166\u001b[0m                 \u001b[39mf\u001b[39m\u001b[39m\"\u001b[39m\u001b[39mof type \u001b[39m\u001b[39m{\u001b[39;00mdict_type\u001b[39m}\u001b[39;00m\u001b[39m (got \u001b[39m\u001b[39m{\u001b[39;00m\u001b[39mtype\u001b[39m(item)\u001b[39m}\u001b[39;00m\u001b[39m). \u001b[39m\u001b[39m\"\u001b[39m\n\u001b[1;32m    167\u001b[0m                 \u001b[39m\"\u001b[39m\u001b[39mChange the key names to resolve the conflict.\u001b[39m\u001b[39m\"\u001b[39m\n\u001b[1;32m    168\u001b[0m             )\n\u001b[1;32m    169\u001b[0m     item[path[\u001b[39m-\u001b[39m\u001b[39m1\u001b[39m]] \u001b[39m=\u001b[39m val\n\u001b[1;32m    170\u001b[0m \u001b[39mreturn\u001b[39;00m out\n",
      "\u001b[0;31mTypeError\u001b[0m: Cannot unflatten dict due the key 'size/height' having a parent key 'size', which value is not of type <class 'dict'> (got <class 'float'>). Change the key names to resolve the conflict."
     ]
    }
   ],
   "source": [
    "num_samples = 10\n",
    "tuner = tune.Tuner(\n",
    "    objective,\n",
    "    tune_config=tune.TuneConfig(\n",
    "        search_alg=searcher,\n",
    "        num_samples=num_samples,\n",
    "    ),\n",
    ")\n",
    "results = tuner.fit()"
   ]
  },
  {
   "cell_type": "code",
   "execution_count": null,
   "metadata": {},
   "outputs": [
    {
     "name": "stdout",
     "output_type": "stream",
     "text": [
      "Best hyperparameters for loss found were:  {'activation': 'tanh', 'si': {'ze': {'width': 17.423511459536684}}, 'size': {'height': -79.26626664441896}, 'steps': 100}\n"
     ]
    }
   ],
   "source": [
    "print(\"Best hyperparameters for loss found were: \", results.get_best_result(\"mean_loss\", \"min\").config)"
   ]
  },
  {
   "cell_type": "code",
   "execution_count": 5,
   "metadata": {},
   "outputs": [],
   "source": [
    "import torch\n",
    "class ANN(torch.nn.Module):\n",
    "    def __init__(self, input_size, hidden_size, num_layer, output_size):\n",
    "        super().__init__()\n",
    "        self.input_size = input_size\n",
    "        self.hidden_size = hidden_size\n",
    "        self.num_layer = num_layer\n",
    "        self.output_size = output_size\n",
    "        layers = [[hidden_size, hidden_size] for i in range(num_layer)]\n",
    "        layers[0][0] = input_size\n",
    "        layers[-1][1] = output_size\n",
    "        self.layers = torch.nn.Sequential(\n",
    "            torch.nn.Linear(layer[0], layer[1]) for layer in layers\n",
    "        )\n",
    "    \n",
    "    def forward(self, x):\n",
    "        x = self.layers(x)\n",
    "        return x"
   ]
  },
  {
   "cell_type": "code",
   "execution_count": 6,
   "metadata": {},
   "outputs": [
    {
     "ename": "TypeError",
     "evalue": "ANN.__init__.<locals>.<genexpr> is not a Module subclass",
     "output_type": "error",
     "traceback": [
      "\u001b[0;31m---------------------------------------------------------------------------\u001b[0m",
      "\u001b[0;31mTypeError\u001b[0m                                 Traceback (most recent call last)",
      "Cell \u001b[0;32mIn[6], line 1\u001b[0m\n\u001b[0;32m----> 1\u001b[0m ANN(\u001b[39m3\u001b[39;49m, \u001b[39m5\u001b[39;49m, \u001b[39m3\u001b[39;49m, \u001b[39m3\u001b[39;49m)\n",
      "Cell \u001b[0;32mIn[5], line 12\u001b[0m, in \u001b[0;36mANN.__init__\u001b[0;34m(self, input_size, hidden_size, num_layer, output_size)\u001b[0m\n\u001b[1;32m     10\u001b[0m layers[\u001b[39m0\u001b[39m][\u001b[39m0\u001b[39m] \u001b[39m=\u001b[39m input_size\n\u001b[1;32m     11\u001b[0m layers[\u001b[39m-\u001b[39m\u001b[39m1\u001b[39m][\u001b[39m1\u001b[39m] \u001b[39m=\u001b[39m output_size\n\u001b[0;32m---> 12\u001b[0m \u001b[39mself\u001b[39m\u001b[39m.\u001b[39mlayers \u001b[39m=\u001b[39m torch\u001b[39m.\u001b[39;49mnn\u001b[39m.\u001b[39;49mSequential(\n\u001b[1;32m     13\u001b[0m     torch\u001b[39m.\u001b[39;49mnn\u001b[39m.\u001b[39;49mLinear(layer[\u001b[39m0\u001b[39;49m], layer[\u001b[39m1\u001b[39;49m]) \u001b[39mfor\u001b[39;49;00m layer \u001b[39min\u001b[39;49;00m layers\n\u001b[1;32m     14\u001b[0m )\n",
      "File \u001b[0;32m~/workspace/.venv/lib/python3.10/site-packages/torch/nn/modules/container.py:104\u001b[0m, in \u001b[0;36mSequential.__init__\u001b[0;34m(self, *args)\u001b[0m\n\u001b[1;32m    102\u001b[0m \u001b[39melse\u001b[39;00m:\n\u001b[1;32m    103\u001b[0m     \u001b[39mfor\u001b[39;00m idx, module \u001b[39min\u001b[39;00m \u001b[39menumerate\u001b[39m(args):\n\u001b[0;32m--> 104\u001b[0m         \u001b[39mself\u001b[39;49m\u001b[39m.\u001b[39;49madd_module(\u001b[39mstr\u001b[39;49m(idx), module)\n",
      "File \u001b[0;32m~/workspace/.venv/lib/python3.10/site-packages/torch/nn/modules/module.py:596\u001b[0m, in \u001b[0;36mModule.add_module\u001b[0;34m(self, name, module)\u001b[0m\n\u001b[1;32m    586\u001b[0m \u001b[39m\u001b[39m\u001b[39mr\u001b[39m\u001b[39m\"\"\"Adds a child module to the current module.\u001b[39;00m\n\u001b[1;32m    587\u001b[0m \n\u001b[1;32m    588\u001b[0m \u001b[39mThe module can be accessed as an attribute using the given name.\u001b[39;00m\n\u001b[0;32m   (...)\u001b[0m\n\u001b[1;32m    593\u001b[0m \u001b[39m    module (Module): child module to be added to the module.\u001b[39;00m\n\u001b[1;32m    594\u001b[0m \u001b[39m\"\"\"\u001b[39;00m\n\u001b[1;32m    595\u001b[0m \u001b[39mif\u001b[39;00m \u001b[39mnot\u001b[39;00m \u001b[39misinstance\u001b[39m(module, Module) \u001b[39mand\u001b[39;00m module \u001b[39mis\u001b[39;00m \u001b[39mnot\u001b[39;00m \u001b[39mNone\u001b[39;00m:\n\u001b[0;32m--> 596\u001b[0m     \u001b[39mraise\u001b[39;00m \u001b[39mTypeError\u001b[39;00m(\u001b[39m\"\u001b[39m\u001b[39m{}\u001b[39;00m\u001b[39m is not a Module subclass\u001b[39m\u001b[39m\"\u001b[39m\u001b[39m.\u001b[39mformat(\n\u001b[1;32m    597\u001b[0m         torch\u001b[39m.\u001b[39mtypename(module)))\n\u001b[1;32m    598\u001b[0m \u001b[39melif\u001b[39;00m \u001b[39mnot\u001b[39;00m \u001b[39misinstance\u001b[39m(name, \u001b[39mstr\u001b[39m):\n\u001b[1;32m    599\u001b[0m     \u001b[39mraise\u001b[39;00m \u001b[39mTypeError\u001b[39;00m(\u001b[39m\"\u001b[39m\u001b[39mmodule name should be a string. Got \u001b[39m\u001b[39m{}\u001b[39;00m\u001b[39m\"\u001b[39m\u001b[39m.\u001b[39mformat(\n\u001b[1;32m    600\u001b[0m         torch\u001b[39m.\u001b[39mtypename(name)))\n",
      "\u001b[0;31mTypeError\u001b[0m: ANN.__init__.<locals>.<genexpr> is not a Module subclass"
     ]
    }
   ],
   "source": [
    "ANN(3, 5, 3, 3)"
   ]
  }
 ],
 "metadata": {
  "kernelspec": {
   "display_name": ".venv",
   "language": "python",
   "name": "python3"
  },
  "language_info": {
   "codemirror_mode": {
    "name": "ipython",
    "version": 3
   },
   "file_extension": ".py",
   "mimetype": "text/x-python",
   "name": "python",
   "nbconvert_exporter": "python",
   "pygments_lexer": "ipython3",
   "version": "3.10.12"
  },
  "orig_nbformat": 4
 },
 "nbformat": 4,
 "nbformat_minor": 2
}
